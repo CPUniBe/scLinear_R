{
 "cells": [
  {
   "cell_type": "code",
   "execution_count": 2,
   "metadata": {
    "pycharm": {
     "name": "#%%\n"
    }
   },
   "outputs": [],
   "source": [
    "%load_ext autoreload\n",
    "%autoreload 2"
   ]
  },
  {
   "cell_type": "code",
   "execution_count": 1,
   "metadata": {
    "pycharm": {
     "name": "#%%\n"
    }
   },
   "outputs": [],
   "source": [
    "import anndata as ad\n",
    "import numpy as np\n",
    "import os\n",
    "import scanpy as sc\n",
    "import numpy as np\n",
    "\n",
    "from evaluate import evaluate\n",
    "from prediction import ADTPredictor, ADTPredictorKRREnsemble"
   ]
  },
  {
   "cell_type": "markdown",
   "metadata": {
    "pycharm": {
     "name": "#%% md\n"
    }
   },
   "source": [
    "### Train on NeurIPS competition dataset"
   ]
  },
  {
   "cell_type": "code",
   "execution_count": 2,
   "metadata": {
    "pycharm": {
     "name": "#%%\n"
    }
   },
   "outputs": [],
   "source": [
    "dataset_path = \"../../../../../PycharmProjects/ModalityPrediction/datasets/openproblems_bmmc_cite_phase2_rna/openproblems_bmmc_cite_phase2_rna.censor_dataset.output_\"\n",
    "gex_train = ad.read_h5ad(dataset_path + \"train_mod1.h5ad\")\n",
    "gex_test = ad.read_h5ad(dataset_path + \"test_mod1.h5ad\")\n",
    "adt_train = ad.read_h5ad(dataset_path + \"train_mod2.h5ad\")\n",
    "adt_test = ad.read_h5ad(dataset_path + \"test_mod2.h5ad\")"
   ]
  },
  {
   "cell_type": "code",
   "execution_count": 4,
   "metadata": {
    "pycharm": {
     "name": "#%%\n"
    }
   },
   "outputs": [],
   "source": [
    "# using high-level interface\n",
    "pipe = ADTPredictor(do_log1p=False)\n",
    "# fit on training data\n",
    "# gex_test is optional and is used for transductive preprocessing if provided\n",
    "# gex_names and adt_names are optional and should refer to the variable names of gex_train and adt_train\n",
    "# if not provided, the predict() method will assume that all the columns of the test GEX matrix are in the same order as the training GEX matrix\n",
    "pipe.fit(gex_train=gex_train.X.toarray(), adt_train=adt_train.X.toarray(), gex_test=gex_test.X.toarray(), gex_names=gex_train.var_names, adt_names=adt_train.var_names)"
   ]
  },
  {
   "cell_type": "code",
   "execution_count": 7,
   "metadata": {
    "pycharm": {
     "name": "#%%\n"
    }
   },
   "outputs": [
    {
     "name": "stdout",
     "output_type": "stream",
     "text": [
      "RMSE: 0.3834063\n",
      "Pearson correlation: 0.873978837329393\n",
      "Spearman correlation: 0.8403242514005046\n"
     ]
    },
    {
     "data": {
      "text/plain": [
       "(0.3834063, 0.873978837329393, 0.8403242514005046)"
      ]
     },
     "execution_count": 7,
     "metadata": {},
     "output_type": "execute_result"
    }
   ],
   "source": [
    "adt_pred, adt_names = pipe.predict(gex_test.X.toarray())\n",
    "evaluate(adt_pred, adt_test.X.toarray())"
   ]
  },
  {
   "cell_type": "code",
   "execution_count": 8,
   "metadata": {
    "pycharm": {
     "name": "#%%\n"
    }
   },
   "outputs": [
    {
     "data": {
      "text/plain": [
       "Index(['CD86', 'CD274', 'CD270', 'CD155', 'CD112', 'CD47', 'CD48', 'CD40',\n",
       "       'CD154', 'CD52',\n",
       "       ...\n",
       "       'CD94', 'CD162', 'CD85j', 'CD23', 'CD328', 'HLA-E', 'CD82', 'CD101',\n",
       "       'CD88', 'CD224'],\n",
       "      dtype='object', length=134)"
      ]
     },
     "execution_count": 8,
     "metadata": {},
     "output_type": "execute_result"
    }
   ],
   "source": [
    "# adt names are also stored as a property\n",
    "pipe.adt_names"
   ]
  },
  {
   "cell_type": "code",
   "execution_count": 10,
   "metadata": {
    "pycharm": {
     "name": "#%%\n"
    }
   },
   "outputs": [],
   "source": [
    "# save the trained pipeline to a file\n",
    "pipe.save(\"ADTPredictor_neuripstrain_alltypes.joblib\")"
   ]
  },
  {
   "cell_type": "markdown",
   "metadata": {
    "pycharm": {
     "name": "#%% md\n"
    }
   },
   "source": [
    "### Train on NeurIPS competition dataset, only T cells"
   ]
  },
  {
   "cell_type": "code",
   "execution_count": null,
   "metadata": {
    "pycharm": {
     "name": "#%%\n"
    }
   },
   "outputs": [],
   "source": [
    "dataset_with_celltype = \"../../../../../PycharmProjects/ModalityPrediction/datasets/post_competition/openproblems_bmmc_cite_complete.h5ad\"\n",
    "gex_adt_with_celltype = ad.read_h5ad(dataset_with_celltype)"
   ]
  },
  {
   "cell_type": "code",
   "execution_count": 29,
   "metadata": {
    "pycharm": {
     "name": "#%%\n"
    }
   },
   "outputs": [
    {
     "data": {
      "text/plain": [
       "CD14+ Mono                          21693\n",
       "CD4+ T activated                     6966\n",
       "CD4+ T naive                         5897\n",
       "NK                                   5434\n",
       "Reticulocyte                         4272\n",
       "Erythroblast                         4039\n",
       "Naive CD20+ B IGKC+                  3990\n",
       "CD8+ T naive                         3107\n",
       "CD16+ Mono                           2635\n",
       "NK CD158e1+                          2167\n",
       "Naive CD20+ B IGKC-                  1979\n",
       "G/M prog                             1881\n",
       "pDC                                  1758\n",
       "HSC                                  1703\n",
       "cDC2                                 1702\n",
       "Lymph prog                           1681\n",
       "Transitional B                       1575\n",
       "Proerythroblast                      1512\n",
       "CD8+ T CD57+ CD45RO+                 1470\n",
       "Normoblast                           1435\n",
       "CD8+ T CD57+ CD45RA+                 1303\n",
       "CD8+ T TIGIT+ CD45RO+                1160\n",
       "CD4+ T activated integrinB7+         1056\n",
       "CD8+ T TIGIT+ CD45RA+                1032\n",
       "CD8+ T CD49f+                         912\n",
       "CD8+ T CD69+ CD45RO+                  897\n",
       "B1 B IGKC+                            820\n",
       "MAIT                                  756\n",
       "CD8+ T CD69+ CD45RA+                  740\n",
       "MK/E prog                             690\n",
       "gdT CD158b+                           674\n",
       "B1 B IGKC-                            613\n",
       "T reg                                 609\n",
       "ILC1                                  552\n",
       "Plasma cell IGKC+                     288\n",
       "Plasma cell IGKC-                     239\n",
       "ILC                                   238\n",
       "Plasmablast IGKC+                     232\n",
       "gdT TCRVD2+                           191\n",
       "Plasmablast IGKC-                     130\n",
       "CD4+ T CD314+ CD45RA+                  93\n",
       "dnT                                    56\n",
       "CD8+ T naive CD127+ CD26- CD101-       42\n",
       "T prog cycling                         24\n",
       "cDC1                                   18\n",
       "Name: cell_type, dtype: int64"
      ]
     },
     "execution_count": 29,
     "metadata": {},
     "output_type": "execute_result"
    }
   ],
   "source": [
    "gex_adt_with_celltype.obs[\"cell_type\"].value_counts()"
   ]
  },
  {
   "cell_type": "code",
   "execution_count": 3,
   "metadata": {
    "pycharm": {
     "name": "#%%\n"
    }
   },
   "outputs": [],
   "source": [
    "def filter_to_Tcells(adata):\n",
    "    gex_data = adata[:, adata.var[\"feature_types\"] == \"GEX\"]\n",
    "    adt_data = adata[:, adata.var[\"feature_types\"] == \"ADT\"]\n",
    "    cell_mask = adata.obs[\"cell_type\"].str.contains(\"T \") | adata.obs[\"cell_type\"].str.endswith(\"T\")\n",
    "    return gex_data[cell_mask], adt_data[cell_mask]"
   ]
  },
  {
   "cell_type": "code",
   "execution_count": 6,
   "metadata": {
    "pycharm": {
     "name": "#%%\n"
    }
   },
   "outputs": [],
   "source": [
    "gex_train_Tcells, adt_train_Tcells = filter_to_Tcells(gex_adt_with_celltype[gex_train.obs_names])\n",
    "gex_test_Tcells, adt_test_Tcells = filter_to_Tcells(gex_adt_with_celltype[gex_test.obs_names])"
   ]
  },
  {
   "cell_type": "code",
   "execution_count": 23,
   "metadata": {
    "pycharm": {
     "name": "#%%\n"
    }
   },
   "outputs": [
    {
     "data": {
      "text/plain": [
       "CD4+ T activated                    4989\n",
       "CD4+ T naive                        4294\n",
       "CD8+ T naive                        2081\n",
       "CD8+ T TIGIT+ CD45RO+                869\n",
       "CD8+ T CD57+ CD45RA+                 853\n",
       "CD8+ T TIGIT+ CD45RA+                781\n",
       "CD4+ T activated integrinB7+         725\n",
       "CD8+ T CD49f+                        594\n",
       "CD8+ T CD69+ CD45RO+                 498\n",
       "CD8+ T CD69+ CD45RA+                 456\n",
       "MAIT                                 438\n",
       "T reg                                393\n",
       "CD8+ T CD57+ CD45RO+                 380\n",
       "gdT CD158b+                          210\n",
       "gdT TCRVD2+                          155\n",
       "CD4+ T CD314+ CD45RA+                 83\n",
       "dnT                                   49\n",
       "CD8+ T naive CD127+ CD26- CD101-      37\n",
       "T prog cycling                        18\n",
       "Name: cell_type, dtype: int64"
      ]
     },
     "execution_count": 23,
     "metadata": {},
     "output_type": "execute_result"
    }
   ],
   "source": [
    "gex_train_Tcells.obs[\"cell_type\"].value_counts()"
   ]
  },
  {
   "cell_type": "code",
   "execution_count": 7,
   "metadata": {
    "pycharm": {
     "name": "#%%\n"
    }
   },
   "outputs": [
    {
     "name": "stdout",
     "output_type": "stream",
     "text": [
      "RMSE: 0.38097182\n",
      "Pearson correlation: 0.86761132274652\n",
      "Spearman correlation: 0.8393886096299725\n"
     ]
    },
    {
     "data": {
      "text/plain": [
       "(0.38097182, 0.86761132274652, 0.8393886096299725)"
      ]
     },
     "execution_count": 7,
     "metadata": {},
     "output_type": "execute_result"
    }
   ],
   "source": [
    "# first evaluate the performance on T cells using the model trained on all cell types\n",
    "pipe = ADTPredictor(do_log1p=False)\n",
    "pipe.load(\"ADTPredictor_neuripstrain_alltypes.joblib\")\n",
    "adt_pred, adt_names = pipe.predict(np.log1p(gex_test_Tcells.X.toarray()))\n",
    "evaluate(adt_pred, adt_test_Tcells.X.toarray())"
   ]
  },
  {
   "cell_type": "code",
   "execution_count": 8,
   "metadata": {
    "pycharm": {
     "name": "#%%\n"
    }
   },
   "outputs": [],
   "source": [
    "# train a new pipeline on only T cells\n",
    "pipe_Tcells = ADTPredictor(do_log1p=True)\n",
    "pipe_Tcells.fit(gex_train=gex_train_Tcells.X.toarray(),\n",
    "                adt_train=adt_train_Tcells.X.toarray(),\n",
    "                gex_test=gex_test_Tcells.X.toarray(),\n",
    "                gex_names=gex_train_Tcells.var_names,\n",
    "                adt_names=adt_train_Tcells.var_names)"
   ]
  },
  {
   "cell_type": "code",
   "execution_count": 9,
   "metadata": {
    "pycharm": {
     "name": "#%%\n"
    }
   },
   "outputs": [
    {
     "name": "stdout",
     "output_type": "stream",
     "text": [
      "RMSE: 0.37337393\n",
      "Pearson correlation: 0.873068129111393\n",
      "Spearman correlation: 0.850552356692189\n"
     ]
    },
    {
     "data": {
      "text/plain": [
       "(0.37337393, 0.873068129111393, 0.850552356692189)"
      ]
     },
     "execution_count": 9,
     "metadata": {},
     "output_type": "execute_result"
    }
   ],
   "source": [
    "# evaluate on T cells\n",
    "adt_pred, adt_names = pipe_Tcells.predict(gex_test_Tcells.X.toarray())\n",
    "evaluate(adt_pred, adt_test_Tcells.X.toarray())"
   ]
  },
  {
   "cell_type": "code",
   "execution_count": 10,
   "metadata": {
    "pycharm": {
     "name": "#%%\n"
    }
   },
   "outputs": [],
   "source": [
    "# save the trained pipeline\n",
    "pipe_Tcells.save(\"ADTPredictor_neuripstrain_Tcells.joblib\")"
   ]
  },
  {
   "cell_type": "code",
   "execution_count": null,
   "metadata": {
    "pycharm": {
     "name": "#%%\n"
    }
   },
   "outputs": [],
   "source": [
    "# load the blood tcells dataset, to test the generalization of the model\n",
    "datasets_path = \"../../../../../PycharmProjects/ModalityPrediction/datasets/\"\n",
    "gex_path = os.path.join(datasets_path, \"bloodTcellsCITEseqDOGMAseq/GSM6032900_CITE_RNA_filtered_feature_bc_matrix.h5\")\n",
    "adt_path = os.path.join(datasets_path, \"bloodTcellsCITEseqDOGMAseq/GSM6032898_CITE_ADT.csv.gz\")\n",
    "\n",
    "print(\"Loading gex, adt\")\n",
    "gex_tcellsdset = sc.read_10x_h5(gex_path)\n",
    "adt_tcellsdset = ad.read_csv(adt_path, first_column_names=True).transpose()\n",
    "\n",
    "print(\"Filtering duplicate variables, zero variables, zero cells, fixing adt var names\")\n",
    "# filter out duplicate variables\n",
    "gex_tcellsdset.var_names_make_unique()\n",
    "adt_tcellsdset.var_names_make_unique()\n",
    "# filter out cells with no adt measurements\n",
    "gex_tcellsdset = gex_tcellsdset[adt_tcellsdset.obs_names]\n",
    "gex_tcellsdset_df = gex_tcellsdset.to_df()\n",
    "# filter out genes with constant expression in every cell\n",
    "gex_tcellsdset = gex_tcellsdset[:, (gex_tcellsdset_df != gex_tcellsdset_df.iloc[0]).any(axis=0)]\n",
    "# delete the last 6 characters of the protein names (to match the protein names in the competition dataset)\n",
    "adt_tcellsdset.var_names = [x[:-6] for x in adt_tcellsdset.var_names]"
   ]
  },
  {
   "cell_type": "code",
   "execution_count": null,
   "metadata": {
    "pycharm": {
     "name": "#%%\n"
    }
   },
   "outputs": [],
   "source": [
    "# predict using the model trained on all cell types\n",
    "# by providing gex_names, the predict() method will filter out the GEX variables on which the model was not trained\n",
    "# the GEX variables that were in the training set but not in gex_names will be set to 0\n",
    "adt_tcellsdset_pred, adt_tcellsdset_pred_names = pipe.predict(np.log1p(gex_tcellsdset.X.toarray()), gex_names=gex_tcellsdset.var_names)"
   ]
  },
  {
   "cell_type": "code",
   "execution_count": 14,
   "metadata": {
    "pycharm": {
     "name": "#%%\n"
    }
   },
   "outputs": [],
   "source": [
    "# filter out the proteins that are not in the competition dataset\n",
    "adt_tcellsdset_true = adt_tcellsdset[:, adt_tcellsdset_pred_names[np.isin(adt_tcellsdset_pred_names, adt_tcellsdset.var_names)]]"
   ]
  },
  {
   "cell_type": "code",
   "execution_count": 17,
   "metadata": {
    "pycharm": {
     "name": "#%%\n"
    }
   },
   "outputs": [
    {
     "name": "stdout",
     "output_type": "stream",
     "text": [
      "RMSE: 48.758392\n",
      "Pearson correlation: 0.4744033198688313\n",
      "Spearman correlation: 0.6558111443884448\n"
     ]
    },
    {
     "data": {
      "text/plain": [
       "(48.758392, 0.4744033198688313, 0.6558111443884448)"
      ]
     },
     "execution_count": 17,
     "metadata": {},
     "output_type": "execute_result"
    }
   ],
   "source": [
    "evaluate(adt_tcellsdset_pred[:, np.isin(adt_tcellsdset_pred_names, adt_tcellsdset_true.var_names)], adt_tcellsdset_true.X)"
   ]
  },
  {
   "cell_type": "code",
   "execution_count": 18,
   "metadata": {
    "pycharm": {
     "name": "#%%\n"
    }
   },
   "outputs": [
    {
     "name": "stderr",
     "output_type": "stream",
     "text": [
      "/home/ico/Documents/GitHub/scLinearDev/inst/python/prediction.py:139: FutureWarning: X.dtype being converted to np.float32 from float64. In the next version of anndata (0.9) conversion will not be automatic. Pass dtype explicitly to avoid this warning. Pass `AnnData(X, dtype=X.dtype, ...)` to get the future behavour.\n",
      "  gex_test = ad.AnnData(gex_test)\n"
     ]
    },
    {
     "name": "stdout",
     "output_type": "stream",
     "text": [
      "RMSE: 48.75221\n",
      "Pearson correlation: 0.49283479922093953\n",
      "Spearman correlation: 0.6872483489369596\n"
     ]
    },
    {
     "data": {
      "text/plain": [
       "(48.75221, 0.49283479922093953, 0.6872483489369596)"
      ]
     },
     "execution_count": 18,
     "metadata": {},
     "output_type": "execute_result"
    }
   ],
   "source": [
    "# predict using the model trained on T cells\n",
    "adt_tcellsdset_pred, adt_tcellsdset_pred_names = pipe_Tcells.predict(gex_tcellsdset.X.toarray(), gex_names=gex_tcellsdset.var_names)\n",
    "evaluate(adt_tcellsdset_pred[:, np.isin(adt_tcellsdset_pred_names, adt_tcellsdset_true.var_names)], adt_tcellsdset_true.X)"
   ]
  },
  {
   "cell_type": "markdown",
   "metadata": {
    "pycharm": {
     "name": "#%% md\n"
    }
   },
   "source": [
    "### Train on NeurIPS competition dataset, only B cells"
   ]
  },
  {
   "cell_type": "code",
   "execution_count": 20,
   "metadata": {
    "pycharm": {
     "name": "#%%\n"
    }
   },
   "outputs": [],
   "source": [
    "def filter_to_Bcells(adata):\n",
    "    gex_data = adata[:, adata.var[\"feature_types\"] == \"GEX\"]\n",
    "    adt_data = adata[:, adata.var[\"feature_types\"] == \"ADT\"]\n",
    "    cell_mask = adata.obs[\"cell_type\"].str.contains(\"B \") | adata.obs[\"cell_type\"].str.endswith(\"B\")\n",
    "    return gex_data[cell_mask], adt_data[cell_mask]\n",
    "\n",
    "gex_train_Bcells, adt_train_Bcells = filter_to_Bcells(gex_adt_with_celltype[gex_train.obs_names])\n",
    "gex_test_Bcells, adt_test_Bcells = filter_to_Bcells(gex_adt_with_celltype[gex_test.obs_names])"
   ]
  },
  {
   "cell_type": "code",
   "execution_count": 22,
   "metadata": {
    "pycharm": {
     "name": "#%%\n"
    }
   },
   "outputs": [
    {
     "data": {
      "text/plain": [
       "Naive CD20+ B IGKC+    2464\n",
       "Naive CD20+ B IGKC-    1205\n",
       "Transitional B          922\n",
       "B1 B IGKC+              541\n",
       "B1 B IGKC-              407\n",
       "Name: cell_type, dtype: int64"
      ]
     },
     "execution_count": 22,
     "metadata": {},
     "output_type": "execute_result"
    }
   ],
   "source": [
    "gex_train_Bcells.obs[\"cell_type\"].value_counts()"
   ]
  },
  {
   "cell_type": "code",
   "execution_count": 24,
   "metadata": {
    "pycharm": {
     "name": "#%%\n"
    }
   },
   "outputs": [],
   "source": [
    "# train a new pipeline on only B cells\n",
    "pipe_Bcells = ADTPredictor(do_log1p=True)\n",
    "pipe_Bcells.fit(gex_train=gex_train_Bcells.X.toarray(),\n",
    "                adt_train=adt_train_Bcells.X.toarray(),\n",
    "                gex_test=gex_test_Bcells.X.toarray(),\n",
    "                gex_names=gex_train_Bcells.var_names,\n",
    "                adt_names=adt_train_Bcells.var_names)"
   ]
  },
  {
   "cell_type": "code",
   "execution_count": 25,
   "metadata": {
    "pycharm": {
     "name": "#%%\n"
    }
   },
   "outputs": [
    {
     "name": "stdout",
     "output_type": "stream",
     "text": [
      "RMSE: 0.33909285\n",
      "Pearson correlation: 0.8973023063828811\n",
      "Spearman correlation: 0.8576481839930153\n"
     ]
    },
    {
     "data": {
      "text/plain": [
       "(0.33909285, 0.8973023063828811, 0.8576481839930153)"
      ]
     },
     "execution_count": 25,
     "metadata": {},
     "output_type": "execute_result"
    }
   ],
   "source": [
    "# evaluate on B cells\n",
    "adt_pred, adt_names = pipe_Bcells.predict(gex_test_Bcells.X.toarray())\n",
    "evaluate(adt_pred, adt_test_Bcells.X.toarray())"
   ]
  },
  {
   "cell_type": "code",
   "execution_count": 26,
   "metadata": {
    "pycharm": {
     "name": "#%%\n"
    }
   },
   "outputs": [],
   "source": [
    "# save the trained pipeline\n",
    "pipe_Bcells.save(\"ADTPredictor_neuripstrain_Bcells.joblib\")"
   ]
  },
  {
   "cell_type": "markdown",
   "metadata": {
    "pycharm": {
     "name": "#%% md\n"
    }
   },
   "source": [
    "### Train on NeurIPS competition dataset, only NK cells"
   ]
  },
  {
   "cell_type": "code",
   "execution_count": 30,
   "metadata": {
    "pycharm": {
     "name": "#%%\n"
    }
   },
   "outputs": [],
   "source": [
    "def filter_to_NKcells(adata):\n",
    "    gex_data = adata[:, adata.var[\"feature_types\"] == \"GEX\"]\n",
    "    adt_data = adata[:, adata.var[\"feature_types\"] == \"ADT\"]\n",
    "    cell_mask = adata.obs[\"cell_type\"].str.contains(\"NK \") | adata.obs[\"cell_type\"].str.endswith(\"NK\")\n",
    "    return gex_data[cell_mask], adt_data[cell_mask]\n",
    "\n",
    "gex_train_NKcells, adt_train_NKcells = filter_to_NKcells(gex_adt_with_celltype[gex_train.obs_names])\n",
    "gex_test_NKcells, adt_test_NKcells = filter_to_NKcells(gex_adt_with_celltype[gex_test.obs_names])"
   ]
  },
  {
   "cell_type": "code",
   "execution_count": 31,
   "metadata": {
    "pycharm": {
     "name": "#%%\n"
    }
   },
   "outputs": [
    {
     "data": {
      "text/plain": [
       "NK             3657\n",
       "NK CD158e1+    1683\n",
       "Name: cell_type, dtype: int64"
      ]
     },
     "execution_count": 31,
     "metadata": {},
     "output_type": "execute_result"
    }
   ],
   "source": [
    "gex_train_NKcells.obs[\"cell_type\"].value_counts()"
   ]
  },
  {
   "cell_type": "code",
   "execution_count": 32,
   "metadata": {
    "pycharm": {
     "name": "#%%\n"
    }
   },
   "outputs": [],
   "source": [
    "# train a new pipeline on only NK cells\n",
    "pipe_NKcells = ADTPredictor(do_log1p=True)\n",
    "pipe_NKcells.fit(gex_train=gex_train_NKcells.X.toarray(),\n",
    "                adt_train=adt_train_NKcells.X.toarray(),\n",
    "                gex_test=gex_test_NKcells.X.toarray(),\n",
    "                gex_names=gex_train_NKcells.var_names,\n",
    "                adt_names=adt_train_NKcells.var_names)"
   ]
  },
  {
   "cell_type": "code",
   "execution_count": 33,
   "metadata": {
    "pycharm": {
     "name": "#%%\n"
    }
   },
   "outputs": [
    {
     "name": "stdout",
     "output_type": "stream",
     "text": [
      "RMSE: 0.34588972\n",
      "Pearson correlation: 0.8842237778611798\n",
      "Spearman correlation: 0.8582723676507771\n"
     ]
    },
    {
     "data": {
      "text/plain": [
       "(0.34588972, 0.8842237778611798, 0.8582723676507771)"
      ]
     },
     "execution_count": 33,
     "metadata": {},
     "output_type": "execute_result"
    }
   ],
   "source": [
    "# evaluate on NK cells\n",
    "adt_pred, adt_names = pipe_NKcells.predict(gex_test_NKcells.X.toarray())\n",
    "evaluate(adt_pred, adt_test_NKcells.X.toarray())"
   ]
  },
  {
   "cell_type": "code",
   "execution_count": 34,
   "metadata": {
    "pycharm": {
     "name": "#%%\n"
    }
   },
   "outputs": [],
   "source": [
    "# save the trained pipeline\n",
    "pipe_NKcells.save(\"ADTPredictor_neuripstrain_NKcells.joblib\")"
   ]
  },
  {
   "cell_type": "markdown",
   "source": [
    "### Load the pretrained kernel ridge regression ensemble model"
   ],
   "metadata": {
    "collapsed": false,
    "pycharm": {
     "name": "#%% md\n"
    }
   }
  },
  {
   "cell_type": "code",
   "execution_count": 3,
   "outputs": [
    {
     "name": "stdout",
     "output_type": "stream",
     "text": [
      "RMSE: 0.3555361\n",
      "Pearson correlation: 0.8904932287572471\n",
      "Spearman correlation: 0.8597986120552739\n"
     ]
    },
    {
     "data": {
      "text/plain": "(0.3555361, 0.8904932287572471, 0.8597986120552739)"
     },
     "execution_count": 3,
     "metadata": {},
     "output_type": "execute_result"
    }
   ],
   "source": [
    "pipe = ADTPredictorKRREnsemble(do_log1p=False)\n",
    "pipe.load('ADTPredictorKRREnsemble_neuripstrain_alltypes.joblib')\n",
    "adt_pred, adt_names = pipe.predict(gex_test.X.toarray())\n",
    "evaluate(adt_pred, adt_test.X.toarray())"
   ],
   "metadata": {
    "collapsed": false,
    "pycharm": {
     "name": "#%%\n"
    }
   }
  }
 ],
 "metadata": {
  "kernelspec": {
   "display_name": "Python 3 (ipykernel)",
   "language": "python",
   "name": "python3"
  },
  "language_info": {
   "codemirror_mode": {
    "name": "ipython",
    "version": 3
   },
   "file_extension": ".py",
   "mimetype": "text/x-python",
   "name": "python",
   "nbconvert_exporter": "python",
   "pygments_lexer": "ipython3",
   "version": "3.8.16"
  }
 },
 "nbformat": 4,
 "nbformat_minor": 1
}