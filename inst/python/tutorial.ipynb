{
 "cells": [
  {
   "cell_type": "code",
   "execution_count": null,
   "metadata": {
    "pycharm": {
     "name": "#%%\n"
    }
   },
   "outputs": [],
   "source": [
    "%load_ext autoreload\n",
    "%autoreload 2"
   ]
  },
  {
   "cell_type": "code",
   "execution_count": null,
   "metadata": {
    "pycharm": {
     "name": "#%%\n"
    }
   },
   "outputs": [],
   "source": [
    "import anndata as ad\n",
    "\n",
    "from evaluate import evaluate\n",
    "from prediction import ADTPredictor"
   ]
  },
  {
   "cell_type": "code",
   "execution_count": null,
   "metadata": {
    "pycharm": {
     "name": "#%%\n"
    }
   },
   "outputs": [],
   "source": [
    "dataset_path = \"datasets/openproblems_bmmc_cite_phase2_rna/openproblems_bmmc_cite_phase2_rna.censor_dataset.output_\"\n",
    "gex_train = ad.read_h5ad(dataset_path + \"train_mod1.h5ad\")\n",
    "gex_test = ad.read_h5ad(dataset_path + \"test_mod1.h5ad\")\n",
    "adt_train = ad.read_h5ad(dataset_path + \"train_mod2.h5ad\")\n",
    "adt_test = ad.read_h5ad(dataset_path + \"test_mod2.h5ad\")"
   ]
  },
  {
   "cell_type": "code",
   "execution_count": null,
   "outputs": [],
   "source": [
    "# using high-level interface\n",
    "pipe = ADTPredictor(do_log1p=False)\n",
    "pipe.fit(gex_train.X.toarray(), adt_train.X.toarray(), gex_test.X.toarray())\n",
    "adt_pred = pipe.predict(gex_test.X.toarray())\n",
    "evaluate(adt_pred, adt_test.X.toarray())"
   ],
   "metadata": {
    "collapsed": false,
    "pycharm": {
     "name": "#%%\n"
    }
   }
  }
 ],
 "metadata": {
  "kernelspec": {
   "display_name": "Python 3 (ipykernel)",
   "language": "python",
   "name": "python3"
  },
  "language_info": {
   "codemirror_mode": {
    "name": "ipython",
    "version": 3
   },
   "file_extension": ".py",
   "mimetype": "text/x-python",
   "name": "python",
   "nbconvert_exporter": "python",
   "pygments_lexer": "ipython3",
   "version": "3.8.16"
  }
 },
 "nbformat": 4,
 "nbformat_minor": 1
}